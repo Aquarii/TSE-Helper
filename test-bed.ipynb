{
 "cells": [
  {
   "cell_type": "markdown",
   "metadata": {},
   "source": [
    "# Module: Fetch Data"
   ]
  },
  {
   "cell_type": "code",
   "execution_count": 1,
   "metadata": {},
   "outputs": [],
   "source": [
    "from typing import Union\n",
    "import pandas as pd\n",
    "import requests\n",
    "from datetime import datetime\n",
    "import pytse_client as tse\n",
    "import fetch\n",
    "import config\n",
    "from utils import debug_log, data_log, ar_to_fa_series, ar_to_fa, fa_to_ar, fa_to_ar_series, flatten_json\n",
    "\n",
    "pd.set_option('display.max_columns', 30) # pd.options.display.max_columns = 3\n",
    "pd.set_option('display.max_rows', 7) # pd.options.display.max_rows = 3\n",
    "pd.set_option('display.float_format', '{:.2f}'.format) # = pd.options.display.float_format = '{:.0f}'.format\n"
   ]
  },
  {
   "cell_type": "markdown",
   "metadata": {},
   "source": [
    "#### Common Parameters"
   ]
  },
  {
   "cell_type": "code",
   "execution_count": 2,
   "metadata": {
    "tags": [
     "parameters"
    ]
   },
   "outputs": [
    {
     "name": "stdout",
     "output_type": "stream",
     "text": [
      "20230910\n"
     ]
    }
   ],
   "source": [
    "request_headers = {\n",
    "    \"User-Agent\": \"Mozilla/5.0 (Windows NT 10.0; Win64; x64) AppleWebKit/537.36 (KHTML, like Gecko) Chrome/108.0.0.0 Safari/537.36\",\n",
    "    \"Referer\": \"http://main.tsetmc.com/StaticContent/WebServiceHelp\",\n",
    "}\n",
    "cookie_jar = {\"ASP.NET_SessionId\": \"wa40en1alwxzjnqehjntrv5j\"}\n",
    "test_ids = ['46348559193224090','20024911381434086','22129017544200','94378630649293']\n",
    "# currentDateTime = datetime.now().strftime(\"%Y-%m-%d %H-%M-%S %p\")\n",
    "\n",
    "last_date = fetch.api_last_possible_deven()\n",
    "instruments = fetch.instruments()\n",
    "identities = fetch.identities()\n",
    "\n",
    "insCodes = list(instruments.index)\n",
    "insCodes_indices_excluded = list(instruments[instruments['cComVal'] != '6'].index)\n",
    "\n",
    "print(last_date)"
   ]
  },
  {
   "cell_type": "code",
   "execution_count": 3,
   "metadata": {},
   "outputs": [
    {
     "name": "stdout",
     "output_type": "stream",
     "text": [
      "1934 Tickers have history.\n"
     ]
    }
   ],
   "source": [
    "## Getting Prices\n",
    "daily_prices = fetch.get_daily_prices(insCodes)\n",
    "print(f'{len(daily_prices.keys())} Tickers have history.')"
   ]
  },
  {
   "cell_type": "markdown",
   "metadata": {},
   "source": [
    "## Categorization"
   ]
  },
  {
   "cell_type": "code",
   "execution_count": 4,
   "metadata": {},
   "outputs": [],
   "source": [
    "def filter_tickers_by_industry(cSecVal: int) -> list:\n",
    "    return list(identities[identities['sector_cSecVal'] == cSecVal].index)"
   ]
  },
  {
   "cell_type": "code",
   "execution_count": 5,
   "metadata": {},
   "outputs": [],
   "source": [
    "khodroi = filter_tickers_by_industry(34)"
   ]
  },
  {
   "cell_type": "markdown",
   "metadata": {},
   "source": [
    "## Volume Filter"
   ]
  },
  {
   "cell_type": "code",
   "execution_count": 10,
   "metadata": {},
   "outputs": [],
   "source": [
    "\n",
    "def volume_filter(insCodes: list) -> list:\n",
    "    \n",
    "    daily_prices = fetch.get_daily_prices(insCodes)\n",
    "    \n",
    "    list_of_dfs = []\n",
    "    ticker_names= []\n",
    "    # TODO: درست کردن فیلتر «نمادهای معامله شده امروز/روز آخر کاری»ا\n",
    "    for insCode in insCodes:\n",
    "        last_row = daily_prices[insCode].iloc[-1]\n",
    "        if (\n",
    "            daily_prices[insCode].index[-1] == int(last_date) and\n",
    "            last_row['<VOL>'] > last_row['<VOL> MA 3'] and \n",
    "            last_row['<VOL>'] > last_row['<VOL> MA 5'] and\n",
    "            last_row['<VOL>'] > last_row['<VOL> MA 9'] and\n",
    "            last_row['<VOL>'] > last_row['<VOL> MA 26'] and\n",
    "            last_row['<VOL>'] > last_row['<VOL> MA 52'] and\n",
    "            last_row['<VOL>'] > last_row['<VOL> MA 90']\n",
    "        ):\n",
    "            list_of_dfs.append(daily_prices[insCode])\n",
    "            ticker_names.append(insCode)\n",
    "            debug_log.info(f'{insCode} Checked.')\n",
    "    print(len(ticker_names),'\\n')\n",
    "    return ticker_names\n"
   ]
  },
  {
   "cell_type": "code",
   "execution_count": 11,
   "metadata": {},
   "outputs": [
    {
     "name": "stdout",
     "output_type": "stream",
     "text": [
      "77 \n",
      "\n"
     ]
    },
    {
     "data": {
      "text/plain": [
       "['490987973229371',\n",
       " '793710053482057',\n",
       " '1931037287459558',\n",
       " '2161110547458064',\n",
       " '3173544097113770',\n",
       " '3542690854557886',\n",
       " '4247709727327181',\n",
       " '4733285133017464',\n",
       " '5920901446678689',\n",
       " '6478064539164167',\n",
       " '7395271748414592',\n",
       " '9141577977527107',\n",
       " '9546211590069761',\n",
       " '9882348775152461',\n",
       " '10114441830266109',\n",
       " '10568944722570445',\n",
       " '11560002870991149',\n",
       " '12303918642491681',\n",
       " '13666407494621646',\n",
       " '15726796686853780',\n",
       " '16369313804633525',\n",
       " '17649149765849787',\n",
       " '18668624820225527',\n",
       " '18883380772506226',\n",
       " '20133434564923831',\n",
       " '20560887114747719',\n",
       " '22087269603540841',\n",
       " '22259718159702272',\n",
       " '23049019886587905',\n",
       " '23293437377896568',\n",
       " '24212636157410845',\n",
       " '27000326841257664',\n",
       " '30650426998863332',\n",
       " '30719054967088301',\n",
       " '30974710508383145',\n",
       " '31039212000825988',\n",
       " '33527290777160784',\n",
       " '33808206014018431',\n",
       " '34718633636164421',\n",
       " '35445515321658835',\n",
       " '42696242981550091',\n",
       " '43062880954780884',\n",
       " '43267179898797137',\n",
       " '43622578471330344',\n",
       " '46178280540110577',\n",
       " '49163985123560149',\n",
       " '50002340308486819',\n",
       " '50368344235826302',\n",
       " '50580753680043015',\n",
       " '51971068201094874',\n",
       " '52382684379473036',\n",
       " '56262208197643515',\n",
       " '56717416662584054',\n",
       " '58602432837130018',\n",
       " '59142194115401696',\n",
       " '59866041653103343',\n",
       " '60079434631497942',\n",
       " '60654872678917533',\n",
       " '61469668095573716',\n",
       " '62012736978844991',\n",
       " '63178552116864821',\n",
       " '63609792127572476',\n",
       " '63830424809501048',\n",
       " '63935385130969014',\n",
       " '64298008532791199',\n",
       " '64707090254488560',\n",
       " '65023851436340574',\n",
       " '66105959479616770',\n",
       " '66210395067138534',\n",
       " '66424163876658304',\n",
       " '66818022341772870',\n",
       " '67170215467608124',\n",
       " '67213778593531096',\n",
       " '67690708346979840',\n",
       " '68517032834363488',\n",
       " '69685517156367976',\n",
       " '70883594945615893']"
      ]
     },
     "execution_count": 11,
     "metadata": {},
     "output_type": "execute_result"
    }
   ],
   "source": [
    "volume_filter(list(daily_prices.keys()))"
   ]
  }
 ],
 "metadata": {
  "kernelspec": {
   "display_name": "Python 3 (ipykernel)",
   "language": "python",
   "name": "python3"
  },
  "language_info": {
   "codemirror_mode": {
    "name": "ipython",
    "version": 3
   },
   "file_extension": ".py",
   "mimetype": "text/x-python",
   "name": "python",
   "nbconvert_exporter": "python",
   "pygments_lexer": "ipython3",
   "version": "3.11.4"
  }
 },
 "nbformat": 4,
 "nbformat_minor": 4
}
