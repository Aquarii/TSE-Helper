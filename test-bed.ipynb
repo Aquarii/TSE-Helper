{
 "cells": [
  {
   "cell_type": "markdown",
   "metadata": {},
   "source": [
    "# Module: Fetch Data\n",
    "*get data from TSETMC and directly write to db*"
   ]
  },
  {
   "cell_type": "markdown",
   "metadata": {},
   "source": [
    "## Prepearing Classification Data"
   ]
  },
  {
   "cell_type": "code",
   "execution_count": 1,
   "metadata": {},
   "outputs": [],
   "source": [
    "from typing import Union\n",
    "import pandas as pd\n",
    "import requests\n",
    "from datetime import datetime\n",
    "import pytse_client as tse\n",
    "import fetch\n",
    "import config\n",
    "from utils import debug_log, data_log, ar_to_fa_series, ar_to_fa, fa_to_ar, fa_to_ar_series, flatten_json\n",
    "\n",
    "pd.set_option('display.max_columns', 30)"
   ]
  },
  {
   "cell_type": "markdown",
   "metadata": {},
   "source": [
    "## Common Parameters"
   ]
  },
  {
   "cell_type": "code",
   "execution_count": 2,
   "metadata": {
    "tags": [
     "parameters"
    ]
   },
   "outputs": [
    {
     "name": "stdout",
     "output_type": "stream",
     "text": [
      "20230909\n"
     ]
    }
   ],
   "source": [
    "request_headers = {\n",
    "    \"User-Agent\": \"Mozilla/5.0 (Windows NT 10.0; Win64; x64) AppleWebKit/537.36 (KHTML, like Gecko) Chrome/108.0.0.0 Safari/537.36\",\n",
    "    \"Referer\": \"http://main.tsetmc.com/StaticContent/WebServiceHelp\",\n",
    "}\n",
    "cookie_jar = {\"ASP.NET_SessionId\": \"wa40en1alwxzjnqehjntrv5j\"}\n",
    "test_ids = ['46348559193224090','20024911381434086','22129017544200','94378630649293']\n",
    "# currentDateTime = datetime.now().strftime(\"%Y-%m-%d %H-%M-%S %p\")\n",
    "\n",
    "last_date = fetch.last_possible_deven()\n",
    "instruments, shares = fetch.InstrumentAndShare(0, 0)\n",
    "identities = fetch.identities()\n",
    "\n",
    "insCodes = list(instruments.index)\n",
    "insCodes_indices_excluded = list(instruments[instruments['cComVal'] != '6'].index)\n",
    "\n",
    "shares.to_csv(f\"./database/shares.csv\")\n",
    "instruments.to_csv(f\"./database/instruments.csv\")\n",
    "\n",
    "print(last_date)"
   ]
  },
  {
   "cell_type": "markdown",
   "metadata": {},
   "source": [
    "## Getting Prices"
   ]
  },
  {
   "cell_type": "code",
   "execution_count": 3,
   "metadata": {},
   "outputs": [
    {
     "name": "stdout",
     "output_type": "stream",
     "text": [
      "2172 Tickers have history.\n"
     ]
    }
   ],
   "source": [
    "daily_prices = fetch.get_daily_prices(insCodes)\n",
    "print(f'{len(daily_prices.keys())} Tickers have history.')"
   ]
  },
  {
   "cell_type": "markdown",
   "metadata": {},
   "source": [
    "## Categorization"
   ]
  },
  {
   "cell_type": "code",
   "execution_count": 5,
   "metadata": {},
   "outputs": [],
   "source": [
    "identities = pd.read_csv('./database/identities.csv', index_col='insCode', dtype={'insCode':str})"
   ]
  },
  {
   "cell_type": "code",
   "execution_count": 6,
   "metadata": {},
   "outputs": [],
   "source": [
    "def filter_tickers_by_industry(cSecVal: int) -> list:\n",
    "    return list(identities[identities['sector_cSecVal'] == cSecVal].index)"
   ]
  },
  {
   "cell_type": "code",
   "execution_count": 7,
   "metadata": {},
   "outputs": [],
   "source": [
    "khodroi = filter_tickers_by_industry(34)"
   ]
  },
  {
   "cell_type": "markdown",
   "metadata": {},
   "source": [
    "## Volume Filter"
   ]
  },
  {
   "cell_type": "code",
   "execution_count": 19,
   "metadata": {},
   "outputs": [],
   "source": [
    "\n",
    "def volume_filter(insCodes: list) -> list:\n",
    "    \n",
    "    daily_prices = fetch.get_daily_prices(insCodes)\n",
    "    \n",
    "    suspicious = []\n",
    "    ticker_names= []\n",
    "    \n",
    "    for insCode in insCodes:\n",
    "        debug_log.info(f'Going for insCode: {insCode}')\n",
    "        first_row = daily_prices[insCode].iloc[0]\n",
    "        if ((first_row['<VOL>'] > first_row['<VOL> MA 3']) and \n",
    "            (first_row['<VOL>'] > first_row['<VOL> MA 5']) and\n",
    "            (first_row['<VOL>'] > first_row['<VOL> MA 9']) and\n",
    "            (first_row['<VOL>'] > first_row['<VOL> MA 26']) and\n",
    "            (first_row['<VOL>'] > first_row['<VOL> MA 52'])): # فعلا شرط ۹۰ روزه رو نمیذارم بخاطر شرایط کیری بازار ک اصلا هیچی معامله نمیشه\n",
    "            suspicious.append(daily_prices[insCode])\n",
    "            ticker_names.append(insCode)\n",
    "            debug_log.info(f'{insCode} Checked.')\n",
    "    print(len(suspicious),'\\n', ticker_names, '\\n')\n",
    "    return suspicious\n"
   ]
  },
  {
   "cell_type": "code",
   "execution_count": 20,
   "metadata": {},
   "outputs": [
    {
     "name": "stdout",
     "output_type": "stream",
     "text": [
      "0 \n",
      " [] \n",
      "\n"
     ]
    },
    {
     "data": {
      "text/plain": [
       "[]"
      ]
     },
     "execution_count": 20,
     "metadata": {},
     "output_type": "execute_result"
    }
   ],
   "source": [
    "volume_filter(list(cleaned_data.keys()))"
   ]
  }
 ],
 "metadata": {
  "kernelspec": {
   "display_name": "Python 3 (ipykernel)",
   "language": "python",
   "name": "python3"
  },
  "language_info": {
   "codemirror_mode": {
    "name": "ipython",
    "version": 3
   },
   "file_extension": ".py",
   "mimetype": "text/x-python",
   "name": "python",
   "nbconvert_exporter": "python",
   "pygments_lexer": "ipython3",
   "version": "3.11.4"
  }
 },
 "nbformat": 4,
 "nbformat_minor": 4
}
