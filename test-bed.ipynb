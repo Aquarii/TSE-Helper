{
 "cells": [
  {
   "cell_type": "markdown",
   "metadata": {},
   "source": [
    "# Module: Fetch Data\n",
    "*get data from TSETMC and directly write to db*"
   ]
  },
  {
   "cell_type": "markdown",
   "metadata": {},
   "source": [
    "## Prepearing Classification Data"
   ]
  },
  {
   "cell_type": "code",
   "execution_count": 1,
   "metadata": {},
   "outputs": [],
   "source": [
    "from typing import Union\n",
    "import pandas as pd\n",
    "import requests\n",
    "from datetime import datetime\n",
    "import pytse_client as tse\n",
    "import fetch\n",
    "from config import *\n",
    "from utils import debug_log, data_log, ar_to_fa_series, ar_to_fa, fa_to_ar, fa_to_ar_series, flatten_json"
   ]
  },
  {
   "cell_type": "code",
   "execution_count": 2,
   "metadata": {},
   "outputs": [],
   "source": [
    "pd.set_option('display.max_columns', 30)"
   ]
  },
  {
   "cell_type": "markdown",
   "metadata": {},
   "source": [
    "## Definition & Assignment"
   ]
  },
  {
   "cell_type": "code",
   "execution_count": 3,
   "metadata": {
    "tags": [
     "parameters"
    ]
   },
   "outputs": [],
   "source": [
    "request_headers = {\n",
    "    \"User-Agent\": \"Mozilla/5.0 (Windows NT 10.0; Win64; x64) AppleWebKit/537.36 (KHTML, like Gecko) Chrome/108.0.0.0 Safari/537.36\",\n",
    "    \"Referer\": \"http://main.tsetmc.com/StaticContent/WebServiceHelp\",\n",
    "}\n",
    "cookie_jar = {\"ASP.NET_SessionId\": \"wa40en1alwxzjnqehjntrv5j\"}\n",
    "test_ids = ['46348559193224090','20024911381434086','22129017544200','94378630649293']"
   ]
  },
  {
   "cell_type": "markdown",
   "metadata": {
    "tags": [
     "const"
    ]
   },
   "source": [
    "currentDateTime = datetime.now().strftime(\"%Y-%m-%d %H-%M-%S %p\")\n",
    "currentDateTime"
   ]
  },
  {
   "cell_type": "code",
   "execution_count": 4,
   "metadata": {},
   "outputs": [
    {
     "name": "stdout",
     "output_type": "stream",
     "text": [
      "20230909\n"
     ]
    }
   ],
   "source": [
    "last_date = fetch.last_possible_deven()\n",
    "instruments, shares = fetch.InstrumentAndShare(0, 0)\n",
    "\n",
    "shares.to_csv(f\"./database/shares.csv\")\n",
    "instruments.to_csv(f\"./database/instruments.csv\")\n",
    "\n",
    "print(last_date)"
   ]
  },
  {
   "cell_type": "markdown",
   "metadata": {},
   "source": [
    "## Update Identity"
   ]
  },
  {
   "cell_type": "code",
   "execution_count": 5,
   "metadata": {},
   "outputs": [
    {
     "ename": "HTTPError",
     "evalue": "500 Server Error: Internal Server Error for url: http://cdn.tsetmc.com/api/Instrument/GetInstrumentIdentity/30106839080444358",
     "output_type": "error",
     "traceback": [
      "\u001b[1;31m---------------------------------------------------------------------------\u001b[0m",
      "\u001b[1;31mHTTPError\u001b[0m                                 Traceback (most recent call last)",
      "\u001b[1;32mc:\\Users\\Ali\\TSE-Helper\\test-bed.ipynb Cell 10\u001b[0m line \u001b[0;36m1\n\u001b[1;32m----> <a href='vscode-notebook-cell:/c%3A/Users/Ali/TSE-Helper/test-bed.ipynb#X56sZmlsZQ%3D%3D?line=0'>1</a>\u001b[0m fetch\u001b[39m.\u001b[39mupdate_identities()\n",
      "File \u001b[1;32mc:\\Users\\Ali\\TSE-Helper\\fetch.py:203\u001b[0m, in \u001b[0;36mupdate_identities\u001b[1;34m()\u001b[0m\n\u001b[0;32m    199\u001b[0m \u001b[39mif\u001b[39;00m new_instruments:\n\u001b[0;32m    201\u001b[0m     data_log\u001b[39m.\u001b[39minfo(\u001b[39m'\u001b[39m\u001b[39mNew Instruments added. Getting Identity...\u001b[39m\u001b[39m'\u001b[39m)\n\u001b[1;32m--> 203\u001b[0m     new_identities \u001b[39m=\u001b[39m pd\u001b[39m.\u001b[39mDataFrame({index:get_identity(index) \u001b[39mfor\u001b[39;00m index \u001b[39min\u001b[39;00m new_instruments})\u001b[39m.\u001b[39mtranspose()\n\u001b[0;32m    204\u001b[0m     identities \u001b[39m=\u001b[39m pd\u001b[39m.\u001b[39mconcat([identities,new_identities])\n\u001b[0;32m    206\u001b[0m     \u001b[39m# save to csv\u001b[39;00m\n",
      "File \u001b[1;32mc:\\Users\\Ali\\TSE-Helper\\fetch.py:203\u001b[0m, in \u001b[0;36m<dictcomp>\u001b[1;34m(.0)\u001b[0m\n\u001b[0;32m    199\u001b[0m \u001b[39mif\u001b[39;00m new_instruments:\n\u001b[0;32m    201\u001b[0m     data_log\u001b[39m.\u001b[39minfo(\u001b[39m'\u001b[39m\u001b[39mNew Instruments added. Getting Identity...\u001b[39m\u001b[39m'\u001b[39m)\n\u001b[1;32m--> 203\u001b[0m     new_identities \u001b[39m=\u001b[39m pd\u001b[39m.\u001b[39mDataFrame({index:get_identity(index) \u001b[39mfor\u001b[39;00m index \u001b[39min\u001b[39;00m new_instruments})\u001b[39m.\u001b[39mtranspose()\n\u001b[0;32m    204\u001b[0m     identities \u001b[39m=\u001b[39m pd\u001b[39m.\u001b[39mconcat([identities,new_identities])\n\u001b[0;32m    206\u001b[0m     \u001b[39m# save to csv\u001b[39;00m\n",
      "File \u001b[1;32mc:\\Users\\Ali\\TSE-Helper\\fetch.py:163\u001b[0m, in \u001b[0;36mget_identity\u001b[1;34m(insCode)\u001b[0m\n\u001b[0;32m    158\u001b[0m data_log\u001b[39m.\u001b[39minfo(\u001b[39mf\u001b[39m\u001b[39m'\u001b[39m\u001b[39mGoing for Identity of \u001b[39m\u001b[39m\"\u001b[39m\u001b[39m{\u001b[39;00minsCode\u001b[39m}\u001b[39;00m\u001b[39m\"\u001b[39m\u001b[39m'\u001b[39m)\n\u001b[0;32m    160\u001b[0m result \u001b[39m=\u001b[39m requests\u001b[39m.\u001b[39mget(\n\u001b[0;32m    161\u001b[0m     config[\u001b[39m'\u001b[39m\u001b[39mURI\u001b[39m\u001b[39m'\u001b[39m][\u001b[39m'\u001b[39m\u001b[39mIDENTITY\u001b[39m\u001b[39m'\u001b[39m]\u001b[39m.\u001b[39mformat(insCode), headers\u001b[39m=\u001b[39mrequest_headers, cookies\u001b[39m=\u001b[39mcookie_jar\n\u001b[0;32m    162\u001b[0m )\n\u001b[1;32m--> 163\u001b[0m result\u001b[39m.\u001b[39mraise_for_status()  \u001b[39m# raises exception when not a 2xx response\u001b[39;00m\n\u001b[0;32m    164\u001b[0m result \u001b[39m=\u001b[39m json\u001b[39m.\u001b[39mloads(result\u001b[39m.\u001b[39mtext)\n\u001b[0;32m    166\u001b[0m data_log\u001b[39m.\u001b[39minfo(\u001b[39mf\u001b[39m\u001b[39m'\u001b[39m\u001b[39mIdentity of \u001b[39m\u001b[39m\"\u001b[39m\u001b[39m{\u001b[39;00minsCode\u001b[39m}\u001b[39;00m\u001b[39m\"\u001b[39m\u001b[39m recieved correctly.\u001b[39m\u001b[39m'\u001b[39m)\n",
      "File \u001b[1;32mc:\\Users\\Ali\\AppData\\Local\\Programs\\miniconda3\\envs\\dash\\Lib\\site-packages\\requests\\models.py:1021\u001b[0m, in \u001b[0;36mResponse.raise_for_status\u001b[1;34m(self)\u001b[0m\n\u001b[0;32m   1016\u001b[0m     http_error_msg \u001b[39m=\u001b[39m (\n\u001b[0;32m   1017\u001b[0m         \u001b[39mf\u001b[39m\u001b[39m\"\u001b[39m\u001b[39m{\u001b[39;00m\u001b[39mself\u001b[39m\u001b[39m.\u001b[39mstatus_code\u001b[39m}\u001b[39;00m\u001b[39m Server Error: \u001b[39m\u001b[39m{\u001b[39;00mreason\u001b[39m}\u001b[39;00m\u001b[39m for url: \u001b[39m\u001b[39m{\u001b[39;00m\u001b[39mself\u001b[39m\u001b[39m.\u001b[39murl\u001b[39m}\u001b[39;00m\u001b[39m\"\u001b[39m\n\u001b[0;32m   1018\u001b[0m     )\n\u001b[0;32m   1020\u001b[0m \u001b[39mif\u001b[39;00m http_error_msg:\n\u001b[1;32m-> 1021\u001b[0m     \u001b[39mraise\u001b[39;00m HTTPError(http_error_msg, response\u001b[39m=\u001b[39m\u001b[39mself\u001b[39m)\n",
      "\u001b[1;31mHTTPError\u001b[0m: 500 Server Error: Internal Server Error for url: http://cdn.tsetmc.com/api/Instrument/GetInstrumentIdentity/30106839080444358"
     ]
    }
   ],
   "source": [
    "fetch.update_identities()"
   ]
  },
  {
   "cell_type": "markdown",
   "metadata": {},
   "source": [
    "## Getting Prices"
   ]
  },
  {
   "cell_type": "code",
   "execution_count": 6,
   "metadata": {},
   "outputs": [
    {
     "data": {
      "text/plain": [
       "2172"
      ]
     },
     "execution_count": 6,
     "metadata": {},
     "output_type": "execute_result"
    }
   ],
   "source": [
    "daily_prices = fetch.get_daily_prices(tickers)\n",
    "len(daily_prices.keys())"
   ]
  },
  {
   "cell_type": "markdown",
   "metadata": {},
   "source": [
    "## Categorization"
   ]
  },
  {
   "cell_type": "code",
   "execution_count": 5,
   "metadata": {},
   "outputs": [],
   "source": [
    "identities = pd.read_csv('./database/identities.csv', index_col='insCode', dtype={'insCode':str})"
   ]
  },
  {
   "cell_type": "code",
   "execution_count": 6,
   "metadata": {},
   "outputs": [],
   "source": [
    "def filter_tickers_by_industry(cSecVal: int) -> list:\n",
    "    return list(identities[identities['sector_cSecVal'] == cSecVal].index)"
   ]
  },
  {
   "cell_type": "code",
   "execution_count": 7,
   "metadata": {},
   "outputs": [],
   "source": [
    "khodroi = filter_tickers_by_industry(34)"
   ]
  },
  {
   "cell_type": "markdown",
   "metadata": {},
   "source": [
    "## Volume Filter"
   ]
  },
  {
   "cell_type": "code",
   "execution_count": 19,
   "metadata": {},
   "outputs": [],
   "source": [
    "\n",
    "def volume_filter(insCodes: list) -> list:\n",
    "    \n",
    "    daily_prices = fetch.get_daily_prices(insCodes)\n",
    "    \n",
    "    suspicious = []\n",
    "    ticker_names= []\n",
    "    \n",
    "    for insCode in insCodes:\n",
    "        debug_log.info(f'Going for insCode: {insCode}')\n",
    "        first_row = daily_prices[insCode].iloc[0]\n",
    "        if ((first_row['<VOL>'] > first_row['<VOL> MA 3']) and \n",
    "            (first_row['<VOL>'] > first_row['<VOL> MA 5']) and\n",
    "            (first_row['<VOL>'] > first_row['<VOL> MA 9']) and\n",
    "            (first_row['<VOL>'] > first_row['<VOL> MA 26']) and\n",
    "            (first_row['<VOL>'] > first_row['<VOL> MA 52'])): # فعلا شرط ۹۰ روزه رو نمیذارم بخاطر شرایط کیری بازار ک اصلا هیچی معامله نمیشه\n",
    "            suspicious.append(daily_prices[insCode])\n",
    "            ticker_names.append(insCode)\n",
    "            debug_log.info(f'{insCode} Checked.')\n",
    "    print(len(suspicious),'\\n', ticker_names, '\\n')\n",
    "    return suspicious\n"
   ]
  },
  {
   "cell_type": "code",
   "execution_count": 20,
   "metadata": {},
   "outputs": [
    {
     "name": "stdout",
     "output_type": "stream",
     "text": [
      "0 \n",
      " [] \n",
      "\n"
     ]
    },
    {
     "data": {
      "text/plain": [
       "[]"
      ]
     },
     "execution_count": 20,
     "metadata": {},
     "output_type": "execute_result"
    }
   ],
   "source": [
    "volume_filter(list(cleaned_data.keys()))"
   ]
  }
 ],
 "metadata": {
  "kernelspec": {
   "display_name": "Python 3 (ipykernel)",
   "language": "python",
   "name": "python3"
  },
  "language_info": {
   "codemirror_mode": {
    "name": "ipython",
    "version": 3
   },
   "file_extension": ".py",
   "mimetype": "text/x-python",
   "name": "python",
   "nbconvert_exporter": "python",
   "pygments_lexer": "ipython3",
   "version": "3.11.4"
  }
 },
 "nbformat": 4,
 "nbformat_minor": 4
}
