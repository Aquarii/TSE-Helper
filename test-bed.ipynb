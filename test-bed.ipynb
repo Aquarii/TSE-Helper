{
 "cells": [
  {
   "cell_type": "code",
   "execution_count": 6,
   "metadata": {},
   "outputs": [],
   "source": [
    "# Imports\n",
    "from typing import Iterable, TypedDict\n",
    "import pandas as pd\n",
    "import requests\n",
    "from datetime import datetime\n",
    "import pytse_client as tse\n",
    "import fetch\n",
    "import config\n",
    "from utils import debug_log, data_log, ar_to_fa_series, ar_to_fa, fa_to_ar, fa_to_ar_series, flatten_json\n",
    "\n",
    "pd.set_option('display.max_columns', 30) # pd.options.display.max_columns = 3\n",
    "pd.set_option('display.max_rows', 7) # pd.options.display.max_rows = 3\n",
    "pd.set_option('display.float_format', '{:.2f}'.format) # = pd.options.display.float_format = '{:.0f}'.format\n",
    "pd.options.display.max_colwidth = 30"
   ]
  },
  {
   "cell_type": "markdown",
   "metadata": {},
   "source": [
    "#### Common Parameters"
   ]
  },
  {
   "cell_type": "code",
   "execution_count": 2,
   "metadata": {
    "tags": [
     "parameters"
    ]
   },
   "outputs": [
    {
     "name": "stdout",
     "output_type": "stream",
     "text": [
      "Last Date: 20230917\n",
      "Instruments:  3199\n",
      "Instruments (Excluding Indices):  3085\n",
      "Indices:  114\n"
     ]
    }
   ],
   "source": [
    "request_headers = {\n",
    "    \"User-Agent\": \"Mozilla/5.0 (Windows NT 10.0; Win64; x64) AppleWebKit/537.36 (KHTML, like Gecko) Chrome/108.0.0.0 Safari/537.36\",\n",
    "    \"Referer\": \"http://main.tsetmc.com/StaticContent/WebServiceHelp\",\n",
    "}\n",
    "cookie_jar = {\"ASP.NET_SessionId\": \"wa40en1alwxzjnqehjntrv5j\"}\n",
    "test_ids = ['46348559193224090','20024911381434086','22129017544200','94378630649293']\n",
    "# currentDateTime = datetime.now().strftime(\"%Y-%m-%d %H-%M-%S %p\")\n",
    "\n",
    "last_date = fetch.api_last_possible_deven()\n",
    "instruments_df = fetch.get_instruments()\n",
    "identities_df = fetch.get_identities()\n",
    "\n",
    "insCodes = instruments_df.index\n",
    "insCodes_indices_excluded = list(instruments_df[instruments_df['cComVal'] != '6'].index)\n",
    "\n",
    "print(f'Last Date: {last_date}')\n",
    "print('Instruments: ', len(insCodes))\n",
    "print('Instruments (Excluding Indices): ', len(insCodes_indices_excluded))\n",
    "print('Indices: ', len(insCodes) - len(insCodes_indices_excluded))"
   ]
  },
  {
   "cell_type": "code",
   "execution_count": 3,
   "metadata": {},
   "outputs": [
    {
     "name": "stdout",
     "output_type": "stream",
     "text": [
      "885 Tickers traded in the last workday.\n"
     ]
    }
   ],
   "source": [
    "## Getting Prices\n",
    "daily_quotes = fetch.get_closing_prices_daily('all', traded_instruments_only=True)\n",
    "print(f'{len(daily_quotes.keys())} Tickers traded in the last workday.')"
   ]
  },
  {
   "cell_type": "markdown",
   "metadata": {},
   "source": [
    "## Categorization"
   ]
  },
  {
   "cell_type": "code",
   "execution_count": 4,
   "metadata": {},
   "outputs": [],
   "source": [
    "def filter_tickers_by_industry(cSecVal: int) -> list:\n",
    "    return list(identities_df[identities_df['sector_cSecVal'] == cSecVal].index)"
   ]
  },
  {
   "cell_type": "code",
   "execution_count": 5,
   "metadata": {},
   "outputs": [],
   "source": [
    "khodroi = filter_tickers_by_industry(34)"
   ]
  },
  {
   "cell_type": "markdown",
   "metadata": {},
   "source": [
    "## Volume Filter"
   ]
  },
  {
   "cell_type": "code",
   "execution_count": 7,
   "metadata": {},
   "outputs": [],
   "source": [
    "def volume_filter(insCodes: list) -> list:\n",
    "    \n",
    "    daily_prices = fetch.get_closing_prices_daily(insCodes)\n",
    "    \n",
    "    list_of_dfs = []\n",
    "    ticker_names= []\n",
    "    for insCode in insCodes:\n",
    "        last_row = daily_prices[insCode].iloc[-1]\n",
    "        if (\n",
    "            last_row['<VOL>'] > last_row['<VOL> MA 3'] and \n",
    "            last_row['<VOL>'] > last_row['<VOL> MA 5'] and\n",
    "            last_row['<VOL>'] > last_row['<VOL> MA 9'] and\n",
    "            last_row['<VOL>'] > last_row['<VOL> MA 26'] and\n",
    "            last_row['<VOL>'] > last_row['<VOL> MA 52'] and\n",
    "            last_row['<VOL>'] > last_row['<VOL> MA 90']\n",
    "        ):\n",
    "            list_of_dfs.append(daily_prices[insCode])\n",
    "            ticker_names.append(insCode)\n",
    "            debug_log.info(f'{insCode} Filtered For Volume.')\n",
    "    print(len(ticker_names),'\\n')\n",
    "    return ticker_names\n"
   ]
  },
  {
   "cell_type": "code",
   "execution_count": 8,
   "metadata": {},
   "outputs": [
    {
     "name": "stdout",
     "output_type": "stream",
     "text": [
      "114 \n",
      "\n"
     ]
    },
    {
     "data": {
      "text/plain": [
       "['490987973229371',\n",
       " '1050751214677134',\n",
       " '1438514795814416',\n",
       " '1931037287459558',\n",
       " '2944500421562364',\n",
       " '3493306453706327',\n",
       " '3577388800305243',\n",
       " '3654864906585643',\n",
       " '3846143218462419',\n",
       " '3863538898378476',\n",
       " '4384288570322406',\n",
       " '5305844922895340',\n",
       " '5599691633622269',\n",
       " '6792309561698443',\n",
       " '7745894403636165',\n",
       " '9546211590069761',\n",
       " '9925324137489171',\n",
       " '10795723506538053',\n",
       " '10831074117626896',\n",
       " '11800678942469896',\n",
       " '12965822877128721',\n",
       " '13243992182070788',\n",
       " '13281937213456378',\n",
       " '16553062355259729',\n",
       " '17933573078185644',\n",
       " '17939384202383793',\n",
       " '19298748452450329',\n",
       " '19348717261145458',\n",
       " '22086876724551482',\n",
       " '22382156782768756',\n",
       " '22424135367941584',\n",
       " '22667016906590506',\n",
       " '24085906177899789',\n",
       " '24869832924911721',\n",
       " '25336820825905643',\n",
       " '26780282166315918',\n",
       " '27299841173245405',\n",
       " '27308217070238237',\n",
       " '28291104595448527',\n",
       " '28431095903407567',\n",
       " '28725056634066391',\n",
       " '29974853866926823',\n",
       " '30231789123900526',\n",
       " '30282299500988269',\n",
       " '30507152381699953',\n",
       " '31049085025064185',\n",
       " '31529165012057847',\n",
       " '31913287805282551',\n",
       " '34032872653290886',\n",
       " '34856765062083074',\n",
       " '35669480110084448',\n",
       " '35796086458096255',\n",
       " '37828981835497620',\n",
       " '37842793167868642',\n",
       " '41796741644273824',\n",
       " '43062880954780884',\n",
       " '44549439964296944',\n",
       " '44850033148208596',\n",
       " '44967158778304588',\n",
       " '45205530868811305',\n",
       " '45284811973404357',\n",
       " '45608932669358493',\n",
       " '45991797190214892',\n",
       " '46784744534299861',\n",
       " '47563321799863211',\n",
       " '48619517949257749',\n",
       " '48771123304040433',\n",
       " '49641108336531623',\n",
       " '49674915481184052',\n",
       " '50094941173290382',\n",
       " '50792786683910016',\n",
       " '51200575796028449',\n",
       " '52455922800537930',\n",
       " '53251602435454519',\n",
       " '53686258677793038',\n",
       " '53999651992586159',\n",
       " '54482686501491508',\n",
       " '55070742656326885',\n",
       " '55308018877404137',\n",
       " '56262208197643515',\n",
       " '56717416662584054',\n",
       " '56798822689379375',\n",
       " '57722642338781674',\n",
       " '57728534324022361',\n",
       " '58741071099161284',\n",
       " '60276690980289841',\n",
       " '60523145697836739',\n",
       " '60610861509165508',\n",
       " '60633055620418060',\n",
       " '60783654574662426',\n",
       " '61332057061846617',\n",
       " '62012736978844991',\n",
       " '62177651435283872',\n",
       " '62558705479545830',\n",
       " '62603302940123327',\n",
       " '64358061873294912',\n",
       " '64485827086284311',\n",
       " '64961422995450699',\n",
       " '65018804181564924',\n",
       " '65266756318187150',\n",
       " '65985619452718369',\n",
       " '66210395067138534',\n",
       " '66599109405217136',\n",
       " '66721204145017523',\n",
       " '66818022341772870',\n",
       " '67030488744129337',\n",
       " '67076027130284998',\n",
       " '67690708346979840',\n",
       " '69706833029046389',\n",
       " '69817338460284329',\n",
       " '70391097626818082',\n",
       " '70595828753641750',\n",
       " '71483646978964608',\n",
       " '71843282162462661']"
      ]
     },
     "execution_count": 8,
     "metadata": {},
     "output_type": "execute_result"
    }
   ],
   "source": [
    "volume_filter(list(daily_quotes.keys()))"
   ]
  }
 ],
 "metadata": {
  "kernelspec": {
   "display_name": "Python 3 (ipykernel)",
   "language": "python",
   "name": "python3"
  },
  "language_info": {
   "codemirror_mode": {
    "name": "ipython",
    "version": 3
   },
   "file_extension": ".py",
   "mimetype": "text/x-python",
   "name": "python",
   "nbconvert_exporter": "python",
   "pygments_lexer": "ipython3",
   "version": "3.11.4"
  }
 },
 "nbformat": 4,
 "nbformat_minor": 4
}
