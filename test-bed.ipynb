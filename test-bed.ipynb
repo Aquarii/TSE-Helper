{
 "cells": [
  {
   "cell_type": "code",
   "execution_count": 1,
   "metadata": {},
   "outputs": [],
   "source": [
    "# Imports\n",
    "from typing import Union\n",
    "import pandas as pd\n",
    "import requests\n",
    "from datetime import datetime\n",
    "import pytse_client as tse\n",
    "import fetch\n",
    "import config\n",
    "from utils import debug_log, data_log, ar_to_fa_series, ar_to_fa, fa_to_ar, fa_to_ar_series, flatten_json\n",
    "\n",
    "pd.set_option('display.max_columns', 30) # pd.options.display.max_columns = 3\n",
    "pd.set_option('display.max_rows', 7) # pd.options.display.max_rows = 3\n",
    "pd.set_option('display.float_format', '{:.2f}'.format) # = pd.options.display.float_format = '{:.0f}'.format\n"
   ]
  },
  {
   "cell_type": "markdown",
   "metadata": {},
   "source": [
    "#### Common Parameters"
   ]
  },
  {
   "cell_type": "code",
   "execution_count": null,
   "metadata": {
    "tags": [
     "parameters"
    ]
   },
   "outputs": [],
   "source": [
    "request_headers = {\n",
    "    \"User-Agent\": \"Mozilla/5.0 (Windows NT 10.0; Win64; x64) AppleWebKit/537.36 (KHTML, like Gecko) Chrome/108.0.0.0 Safari/537.36\",\n",
    "    \"Referer\": \"http://main.tsetmc.com/StaticContent/WebServiceHelp\",\n",
    "}\n",
    "cookie_jar = {\"ASP.NET_SessionId\": \"wa40en1alwxzjnqehjntrv5j\"}\n",
    "test_ids = ['46348559193224090','20024911381434086','22129017544200','94378630649293']\n",
    "# currentDateTime = datetime.now().strftime(\"%Y-%m-%d %H-%M-%S %p\")\n",
    "\n",
    "last_date = fetch.api_last_possible_deven()\n",
    "instruments_df = fetch.get_instruments()\n",
    "identities_df = fetch.get_identities()\n",
    "\n",
    "insCodes = list(instruments_df.index)\n",
    "insCodes_indices_excluded = list(instruments_df[instruments_df['cComVal'] != '6'].index)\n",
    "\n",
    "print(f'Last Date: {last_date}')\n",
    "print('Instruments: ', len(insCodes))\n",
    "print('Instruments (Excluding Indices): ', len(insCodes_indices_excluded))\n",
    "print('Indices: ', len(insCodes) - len(insCodes_indices_excluded))"
   ]
  },
  {
   "cell_type": "code",
   "execution_count": null,
   "metadata": {},
   "outputs": [
    {
     "ename": "AttributeError",
     "evalue": "module 'fetch' has no attribute 'load_quotes'",
     "output_type": "error",
     "traceback": [
      "\u001b[1;31m---------------------------------------------------------------------------\u001b[0m",
      "\u001b[1;31mAttributeError\u001b[0m                            Traceback (most recent call last)",
      "\u001b[1;32mc:\\Users\\Ali\\TSE-Helper\\test-bed.ipynb Cell 4\u001b[0m line \u001b[0;36m2\n\u001b[0;32m      <a href='vscode-notebook-cell:/c%3A/Users/Ali/TSE-Helper/test-bed.ipynb#W3sZmlsZQ%3D%3D?line=0'>1</a>\u001b[0m \u001b[39m## Getting Prices\u001b[39;00m\n\u001b[1;32m----> <a href='vscode-notebook-cell:/c%3A/Users/Ali/TSE-Helper/test-bed.ipynb#W3sZmlsZQ%3D%3D?line=1'>2</a>\u001b[0m daily_prices \u001b[39m=\u001b[39m fetch\u001b[39m.\u001b[39mload_quotes(insCodes)\n\u001b[0;32m      <a href='vscode-notebook-cell:/c%3A/Users/Ali/TSE-Helper/test-bed.ipynb#W3sZmlsZQ%3D%3D?line=2'>3</a>\u001b[0m \u001b[39mprint\u001b[39m(\u001b[39mf\u001b[39m\u001b[39m'\u001b[39m\u001b[39m{\u001b[39;00m\u001b[39mlen\u001b[39m(daily_prices\u001b[39m.\u001b[39mkeys())\u001b[39m}\u001b[39;00m\u001b[39m Tickers have history.\u001b[39m\u001b[39m'\u001b[39m)\n",
      "\u001b[1;31mAttributeError\u001b[0m: module 'fetch' has no attribute 'load_quotes'"
     ]
    }
   ],
   "source": [
    "## Getting Prices\n",
    "daily_prices = fetch.get_quotes(insCodes)\n",
    "print(f'{len(daily_prices.keys())} Tickers have history.')"
   ]
  },
  {
   "cell_type": "markdown",
   "metadata": {},
   "source": [
    "## Categorization"
   ]
  },
  {
   "cell_type": "code",
   "execution_count": 4,
   "metadata": {},
   "outputs": [],
   "source": [
    "def filter_tickers_by_industry(cSecVal: int) -> list:\n",
    "    return list(identities_df[identities_df['sector_cSecVal'] == cSecVal].index)"
   ]
  },
  {
   "cell_type": "code",
   "execution_count": 5,
   "metadata": {},
   "outputs": [],
   "source": [
    "khodroi = filter_tickers_by_industry(34)"
   ]
  },
  {
   "cell_type": "markdown",
   "metadata": {},
   "source": [
    "## Volume Filter"
   ]
  },
  {
   "cell_type": "code",
   "execution_count": 8,
   "metadata": {},
   "outputs": [],
   "source": [
    "\n",
    "def volume_filter(insCodes: list) -> list:\n",
    "    \n",
    "    daily_prices = fetch.get_quotes(insCodes)\n",
    "    \n",
    "    list_of_dfs = []\n",
    "    ticker_names= []\n",
    "    # TODO: درست کردن فیلتر «نمادهای معامله شده امروز/روز آخر کاری»ا\n",
    "    for insCode in insCodes:\n",
    "        last_row = daily_prices[insCode].iloc[-1]\n",
    "        if (\n",
    "            daily_prices[insCode].index[-1] == int(last_date) and\n",
    "            last_row['<VOL>'] > last_row['<VOL> MA 3'] and \n",
    "            last_row['<VOL>'] > last_row['<VOL> MA 5'] and\n",
    "            last_row['<VOL>'] > last_row['<VOL> MA 9'] and\n",
    "            last_row['<VOL>'] > last_row['<VOL> MA 26'] and\n",
    "            last_row['<VOL>'] > last_row['<VOL> MA 52'] and\n",
    "            last_row['<VOL>'] > last_row['<VOL> MA 90']\n",
    "        ):\n",
    "            list_of_dfs.append(daily_prices[insCode])\n",
    "            ticker_names.append(insCode)\n",
    "            debug_log.info(f'{insCode} Checked.')\n",
    "    print(len(ticker_names),'\\n')\n",
    "    return ticker_names\n"
   ]
  },
  {
   "cell_type": "code",
   "execution_count": null,
   "metadata": {},
   "outputs": [],
   "source": [
    "volume_filter(list(daily_prices.keys()))"
   ]
  }
 ],
 "metadata": {
  "kernelspec": {
   "display_name": "Python 3 (ipykernel)",
   "language": "python",
   "name": "python3"
  },
  "language_info": {
   "codemirror_mode": {
    "name": "ipython",
    "version": 3
   },
   "file_extension": ".py",
   "mimetype": "text/x-python",
   "name": "python",
   "nbconvert_exporter": "python",
   "pygments_lexer": "ipython3",
   "version": "3.11.4"
  }
 },
 "nbformat": 4,
 "nbformat_minor": 4
}
