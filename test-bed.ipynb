{
 "cells": [
  {
   "cell_type": "code",
   "execution_count": 1,
   "metadata": {},
   "outputs": [],
   "source": [
    "# Imports\n",
    "from typing import Union\n",
    "import pandas as pd\n",
    "import requests\n",
    "from datetime import datetime\n",
    "import pytse_client as tse\n",
    "import fetch\n",
    "import config\n",
    "from utils import debug_log, data_log, ar_to_fa_series, ar_to_fa, fa_to_ar, fa_to_ar_series, flatten_json\n",
    "\n",
    "pd.set_option('display.max_columns', 30) # pd.options.display.max_columns = 3\n",
    "pd.set_option('display.max_rows', 7) # pd.options.display.max_rows = 3\n",
    "pd.set_option('display.float_format', '{:.2f}'.format) # = pd.options.display.float_format = '{:.0f}'.format\n",
    "pd.options.display.max_colwidth = 10"
   ]
  },
  {
   "cell_type": "markdown",
   "metadata": {},
   "source": [
    "#### Common Parameters"
   ]
  },
  {
   "cell_type": "code",
   "execution_count": 2,
   "metadata": {
    "tags": [
     "parameters"
    ]
   },
   "outputs": [
    {
     "name": "stdout",
     "output_type": "stream",
     "text": [
      "Last Date: 20230913\n",
      "Instruments:  2304\n",
      "Instruments (Excluding Indices):  2197\n",
      "Indices:  107\n"
     ]
    }
   ],
   "source": [
    "request_headers = {\n",
    "    \"User-Agent\": \"Mozilla/5.0 (Windows NT 10.0; Win64; x64) AppleWebKit/537.36 (KHTML, like Gecko) Chrome/108.0.0.0 Safari/537.36\",\n",
    "    \"Referer\": \"http://main.tsetmc.com/StaticContent/WebServiceHelp\",\n",
    "}\n",
    "cookie_jar = {\"ASP.NET_SessionId\": \"wa40en1alwxzjnqehjntrv5j\"}\n",
    "test_ids = ['46348559193224090','20024911381434086','22129017544200','94378630649293']\n",
    "# currentDateTime = datetime.now().strftime(\"%Y-%m-%d %H-%M-%S %p\")\n",
    "\n",
    "last_date = fetch.api_last_possible_deven()\n",
    "instruments_df = fetch.get_instruments()\n",
    "identities_df = fetch.get_identities()\n",
    "\n",
    "insCodes = instruments_df.index\n",
    "insCodes_indices_excluded = list(instruments_df[instruments_df['cComVal'] != '6'].index)\n",
    "\n",
    "print(f'Last Date: {last_date}')\n",
    "print('Instruments: ', len(insCodes))\n",
    "print('Instruments (Excluding Indices): ', len(insCodes_indices_excluded))\n",
    "print('Indices: ', len(insCodes) - len(insCodes_indices_excluded))"
   ]
  },
  {
   "cell_type": "code",
   "execution_count": 4,
   "metadata": {},
   "outputs": [
    {
     "name": "stdout",
     "output_type": "stream",
     "text": [
      "1935 Tickers have history.\n"
     ]
    }
   ],
   "source": [
    "## Getting Prices\n",
    "daily_prices = fetch.get_quotes('all')\n",
    "print(f'{len(daily_prices.keys())} Tickers have history.')"
   ]
  },
  {
   "cell_type": "markdown",
   "metadata": {},
   "source": [
    "## Categorization"
   ]
  },
  {
   "cell_type": "code",
   "execution_count": 36,
   "metadata": {},
   "outputs": [],
   "source": [
    "def filter_tickers_by_industry(cSecVal: int) -> list:\n",
    "    return list(identities_df[identities_df['sector_cSecVal'] == cSecVal].index)"
   ]
  },
  {
   "cell_type": "code",
   "execution_count": 37,
   "metadata": {},
   "outputs": [],
   "source": [
    "khodroi = filter_tickers_by_industry(34)"
   ]
  },
  {
   "cell_type": "markdown",
   "metadata": {},
   "source": [
    "## Volume Filter"
   ]
  },
  {
   "cell_type": "code",
   "execution_count": 39,
   "metadata": {},
   "outputs": [],
   "source": [
    "def volume_filter(insCodes: list) -> list:\n",
    "    \n",
    "    daily_prices = fetch.get_quotes(insCodes)\n",
    "    \n",
    "    list_of_dfs = []\n",
    "    ticker_names= []\n",
    "    # TODO: درست کردن فیلتر «نمادهای معامله شده امروز/روز آخر کاری»ا\n",
    "    for insCode in insCodes:\n",
    "        last_row = daily_prices[insCode].iloc[-1]\n",
    "        if (\n",
    "            daily_prices[insCode].index[-1] == int(last_date) and\n",
    "            last_row['<VOL>'] > last_row['<VOL> MA 3'] and \n",
    "            last_row['<VOL>'] > last_row['<VOL> MA 5'] and\n",
    "            last_row['<VOL>'] > last_row['<VOL> MA 9'] and\n",
    "            last_row['<VOL>'] > last_row['<VOL> MA 26'] and\n",
    "            last_row['<VOL>'] > last_row['<VOL> MA 52'] and\n",
    "            last_row['<VOL>'] > last_row['<VOL> MA 90']\n",
    "        ):\n",
    "            list_of_dfs.append(daily_prices[insCode])\n",
    "            ticker_names.append(insCode)\n",
    "            debug_log.info(f'{insCode} Filtered For Volume.')\n",
    "    print(len(ticker_names),'\\n')\n",
    "    return ticker_names\n"
   ]
  },
  {
   "cell_type": "code",
   "execution_count": 41,
   "metadata": {},
   "outputs": [
    {
     "name": "stdout",
     "output_type": "stream",
     "text": [
      "77 \n",
      "\n"
     ]
    },
    {
     "data": {
      "text/plain": [
       "['1358190916156744',\n",
       " '1931037287459558',\n",
       " '2161110547458064',\n",
       " '3493306453706327',\n",
       " '3654864906585643',\n",
       " '3846143218462419',\n",
       " '4151098369137517',\n",
       " '4247709727327181',\n",
       " '5054819322815158',\n",
       " '5599691633622269',\n",
       " '8646067353086740',\n",
       " '9536587154100457',\n",
       " '9546211590069761',\n",
       " '9698674686691945',\n",
       " '11964419322927535',\n",
       " '13281937213456378',\n",
       " '16040900750729921',\n",
       " '16959429956899455',\n",
       " '17226661368470120',\n",
       " '17617474823279712',\n",
       " '19367527798307032',\n",
       " '19828734979381742',\n",
       " '22382156782768756',\n",
       " '22667016906590506',\n",
       " '23175320865252772',\n",
       " '24079409192818584',\n",
       " '24085906177899789',\n",
       " '26543014712914772',\n",
       " '27797446447955609',\n",
       " '28328083629154916',\n",
       " '30282299500988269',\n",
       " '30974710508383145',\n",
       " '31569200988534548',\n",
       " '35424116338766901',\n",
       " '39116664428676213',\n",
       " '42696242981550091',\n",
       " '43267179898797137',\n",
       " '45205530868811305',\n",
       " '47563321799863211',\n",
       " '48241092863917835',\n",
       " '48557136219738552',\n",
       " '48619517949257749',\n",
       " '49054891736433700',\n",
       " '52846735736632974',\n",
       " '53251602435454519',\n",
       " '53686258677793038',\n",
       " '55070742656326885',\n",
       " '55308018877404137',\n",
       " '56262208197643515',\n",
       " '56344907495802692',\n",
       " '56798822689379375',\n",
       " '57728534324022361',\n",
       " '58035444268544991',\n",
       " '58482817740704549',\n",
       " '59598536122397373',\n",
       " '59607545337891226',\n",
       " '59800986739603675',\n",
       " '59839275647597021',\n",
       " '59866041653103343',\n",
       " '60633055620418060',\n",
       " '61664227282090067',\n",
       " '62558705479545830',\n",
       " '63084741752814852',\n",
       " '63178552116864821',\n",
       " '64155926828410021',\n",
       " '64341992373049080',\n",
       " '64358061873294912',\n",
       " '66036975502302203',\n",
       " '66105959479616770',\n",
       " '66424163876658304',\n",
       " '66726992874614788',\n",
       " '66818022341772870',\n",
       " '66830065858417081',\n",
       " '67076027130284998',\n",
       " '70595828753641750',\n",
       " '71483646978964608',\n",
       " '71843282162462661']"
      ]
     },
     "execution_count": 41,
     "metadata": {},
     "output_type": "execute_result"
    }
   ],
   "source": [
    "volume_filter(list(daily_prices.keys()))"
   ]
  }
 ],
 "metadata": {
  "kernelspec": {
   "display_name": "Python 3 (ipykernel)",
   "language": "python",
   "name": "python3"
  },
  "language_info": {
   "codemirror_mode": {
    "name": "ipython",
    "version": 3
   },
   "file_extension": ".py",
   "mimetype": "text/x-python",
   "name": "python",
   "nbconvert_exporter": "python",
   "pygments_lexer": "ipython3",
   "version": "3.11.4"
  }
 },
 "nbformat": 4,
 "nbformat_minor": 4
}
