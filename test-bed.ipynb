{
 "cells": [
  {
   "cell_type": "markdown",
   "metadata": {},
   "source": [
    "# Module: Fetch Data\n",
    "*get data from TSETMC and directly write to db*"
   ]
  },
  {
   "cell_type": "markdown",
   "metadata": {},
   "source": [
    "## Prepearing Classification Data"
   ]
  },
  {
   "cell_type": "code",
   "execution_count": 2,
   "metadata": {},
   "outputs": [],
   "source": [
    "import pandas as pd\n",
    "import requests\n",
    "import zeep\n",
    "import json\n",
    "import pytse_client\n",
    "\n",
    "from utils import logger_app, ar_to_fa_series, ar_to_fa"
   ]
  },
  {
   "cell_type": "code",
   "execution_count": 3,
   "metadata": {},
   "outputs": [],
   "source": [
    "pd.set_option('display.max_columns', 30)"
   ]
  },
  {
   "cell_type": "markdown",
   "metadata": {},
   "source": [
    "## Definition & Assignment"
   ]
  },
  {
   "cell_type": "code",
   "execution_count": 4,
   "metadata": {
    "tags": [
     "const"
    ]
   },
   "outputs": [],
   "source": [
    "request_headers = {\n",
    "    'User-Agent':\n",
    "    'Mozilla/5.0 (Windows NT 10.0; Win64; x64) AppleWebKit/537.36 (KHTML, like Gecko) Chrome/108.0.0.0 Safari/537.36',\n",
    "    'Referer': 'http://main.tsetmc.com/StaticContent/WebServiceHelp'\n",
    "}\n",
    "cookie_jar = {'ASP.NET_SessionId': 'wa40en1alwxzjnqehjntrv5j'}\n",
    "\n",
    "IDENTITY_URL = \"http://cdn.tsetmc.com/api/Instrument/GetInstrumentIdentity/{}\"\n",
    "test_ids = ['46348559193224090','20024911381434086','22129017544200','94378630649293']"
   ]
  },
  {
   "cell_type": "code",
   "execution_count": 5,
   "metadata": {
    "jupyter": {
     "source_hidden": true
    }
   },
   "outputs": [],
   "source": [
    "def last_possible_deven():\n",
    "    client = zeep.Client(\n",
    "        'http://service.tsetmc.com/WebService/TseClient.asmx?wsdl')\n",
    "    last_workday = client.service.LastPossibleDeven()\n",
    "    return last_workday.split(';')[0] if last_workday.split(\n",
    "        ';')[1] == last_workday.split(';')[0] else print(\n",
    "            last_workday)  # for debuging purposes"
   ]
  },
  {
   "cell_type": "code",
   "execution_count": 6,
   "metadata": {
    "jupyter": {
     "source_hidden": true
    }
   },
   "outputs": [],
   "source": [
    "def InstrumentAndShare(last_fetch_date, last_record_id):\n",
    "    client = zeep.Client(\n",
    "        wsdl='http://service.tsetmc.com/WebService/TseClient.asmx?wsdl')\n",
    "\n",
    "    instruments, share_increase = client.service.InstrumentAndShare(\n",
    "        last_fetch_date, last_record_id).split('@')\n",
    "\n",
    "    if instruments:\n",
    "        instruments = instruments.split(';')\n",
    "        instruments = pd.DataFrame(\n",
    "            [instrument.split(',') for instrument in instruments])\n",
    "        instruments.columns = [\n",
    "            'id', 'inst_code_12', 'inst_code_5', 'name_latin',\n",
    "            'company_code_4', 'ticker', 'name', 'isin', 'mod_date',\n",
    "            'market_code', 'company_name', 'status_code', 'group_code',\n",
    "            'market_type_code', 'tableu_code', 'industry_sector_code',\n",
    "            'industry_subsector_code', 'type_code'\n",
    "        ]\n",
    "        instruments.set_index('id', inplace=True)\n",
    "        instruments['ticker'] = ar_to_fa_series(instruments['ticker'])\n",
    "        instruments['name'] = ar_to_fa_series(instruments['name'])\n",
    "        instruments['company_name'] = ar_to_fa_series(\n",
    "            instruments['company_name'])\n",
    "\n",
    "    if share_increase:\n",
    "        share_increase = share_increase.split(';')\n",
    "        share_increase = pd.DataFrame(\n",
    "            [share.split(',') for share in share_increase])\n",
    "        share_increase.columns = [\n",
    "            'record_id', 'id', 'date', 'before_raise', 'after_raise'\n",
    "        ]\n",
    "        #capital_increase['record_id'] = capital_increase['record_id'].astype(int)\n",
    "        share_increase.set_index('record_id', inplace=True)\n",
    "    else:\n",
    "        share_increase = None\n",
    "\n",
    "    return instruments, share_increase\n"
   ]
  },
  {
   "cell_type": "code",
   "execution_count": 7,
   "metadata": {
    "jupyter": {
     "source_hidden": true
    }
   },
   "outputs": [],
   "source": [
    "def flatten_json(y):\n",
    "    out = {}\n",
    "    \n",
    "    def flatten(x, name =''):\n",
    "        \n",
    "        # If the Nested key-value \n",
    "        # pair is of dict type\n",
    "        if type(x) is dict:\n",
    "            \n",
    "            for a in x:\n",
    "                flatten(x[a], name + a + '_')\n",
    "                \n",
    "        # If the Nested key-value\n",
    "        # pair is of list type\n",
    "        elif type(x) is list:\n",
    "            \n",
    "            i = 0\n",
    "            \n",
    "            for a in x:                \n",
    "                flatten(a, name + str(i) + '_')\n",
    "                i += 1\n",
    "        else:\n",
    "            out[name[:-1]] = x\n",
    "        \n",
    "    flatten(y)\n",
    "    return out"
   ]
  },
  {
   "cell_type": "code",
   "execution_count": 8,
   "metadata": {
    "jupyter": {
     "source_hidden": true
    }
   },
   "outputs": [],
   "source": [
    "def get_identity(id):\n",
    "    result = requests.get(\n",
    "        IDENTITY_URL.format(id),\n",
    "        headers=request_headers,\n",
    "        cookies=cookie_jar)\n",
    "    result = json.loads(result.text)\n",
    "    return flatten_json(result['instrumentIdentity'])"
   ]
  },
  {
   "cell_type": "code",
   "execution_count": 9,
   "metadata": {},
   "outputs": [
    {
     "name": "stdout",
     "output_type": "stream",
     "text": [
      "20230903\n"
     ]
    }
   ],
   "source": [
    "last_date = last_possible_deven()\n",
    "insts, shares = InstrumentAndShare(0,0)\n",
    "print(last_possible_deven())"
   ]
  },
  {
   "cell_type": "code",
   "execution_count": 10,
   "metadata": {},
   "outputs": [],
   "source": [
    "all_identities = pd.DataFrame({index:get_identity(index) for index in insts[insts['tableu_code'] != '6'].index}).transpose()"
   ]
  },
  {
   "cell_type": "code",
   "execution_count": 15,
   "metadata": {},
   "outputs": [],
   "source": [
    "all_identities.to_csv('all_idz.csv')"
   ]
  },
  {
   "cell_type": "markdown",
   "metadata": {},
   "source": [
    "## Categorization"
   ]
  },
  {
   "cell_type": "code",
   "execution_count": null,
   "metadata": {},
   "outputs": [],
   "source": []
  }
 ],
 "metadata": {
  "kernelspec": {
   "display_name": "Python 3 (ipykernel)",
   "language": "python",
   "name": "python3"
  },
  "language_info": {
   "codemirror_mode": {
    "name": "ipython",
    "version": 3
   },
   "file_extension": ".py",
   "mimetype": "text/x-python",
   "name": "python",
   "nbconvert_exporter": "python",
   "pygments_lexer": "ipython3",
   "version": "3.11.4"
  }
 },
 "nbformat": 4,
 "nbformat_minor": 4
}
